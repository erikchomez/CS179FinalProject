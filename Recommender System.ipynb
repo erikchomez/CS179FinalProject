{
 "cells": [
  {
   "cell_type": "markdown",
   "metadata": {},
   "source": [
    "# CS 179: Final Project\n",
    "## PCA Recommender System \n",
    "---\n",
    "***Group Members | SID***\n",
    "\n",
    "Erik Gomez | 38017181 <br>\n",
    "Filip Velasquez | 47444867 <br>\n",
    "Killian Weber | 86163603"
   ]
  },
  {
   "cell_type": "code",
   "execution_count": 1,
   "metadata": {},
   "outputs": [],
   "source": [
    "import pandas as pd\n",
    "import numpy as np\n",
    "import matplotlib.pyplot as plt\n",
    "from sklearn.preprocessing import StandardScaler\n",
    "from sklearn.neural_network import BernoulliRBM"
   ]
  },
  {
   "cell_type": "code",
   "execution_count": 2,
   "metadata": {},
   "outputs": [],
   "source": [
    "movies = pd.read_csv('ml-latest-small/movies.csv')  # movieId title genres\n",
    "ratings = pd.read_csv('ml-latest-small/ratings.csv')  # userId movieId rating timestamp\n",
    "ratings.drop(['timestamp'], axis=1, inplace=True)  # we don't care about timestap so lets get rid of it"
   ]
  },
  {
   "cell_type": "code",
   "execution_count": 3,
   "metadata": {
    "scrolled": true
   },
   "outputs": [
    {
     "data": {
      "text/html": [
       "<div>\n",
       "<style scoped>\n",
       "    .dataframe tbody tr th:only-of-type {\n",
       "        vertical-align: middle;\n",
       "    }\n",
       "\n",
       "    .dataframe tbody tr th {\n",
       "        vertical-align: top;\n",
       "    }\n",
       "\n",
       "    .dataframe thead th {\n",
       "        text-align: right;\n",
       "    }\n",
       "</style>\n",
       "<table border=\"1\" class=\"dataframe\">\n",
       "  <thead>\n",
       "    <tr style=\"text-align: right;\">\n",
       "      <th></th>\n",
       "      <th>userId</th>\n",
       "      <th>movieId</th>\n",
       "      <th>rating</th>\n",
       "      <th>title</th>\n",
       "      <th>genres</th>\n",
       "    </tr>\n",
       "  </thead>\n",
       "  <tbody>\n",
       "    <tr>\n",
       "      <th>0</th>\n",
       "      <td>1</td>\n",
       "      <td>1</td>\n",
       "      <td>4.0</td>\n",
       "      <td>Toy Story (1995)</td>\n",
       "      <td>Adventure|Animation|Children|Comedy|Fantasy</td>\n",
       "    </tr>\n",
       "    <tr>\n",
       "      <th>1</th>\n",
       "      <td>1</td>\n",
       "      <td>3</td>\n",
       "      <td>4.0</td>\n",
       "      <td>Grumpier Old Men (1995)</td>\n",
       "      <td>Comedy|Romance</td>\n",
       "    </tr>\n",
       "    <tr>\n",
       "      <th>2</th>\n",
       "      <td>1</td>\n",
       "      <td>6</td>\n",
       "      <td>4.0</td>\n",
       "      <td>Heat (1995)</td>\n",
       "      <td>Action|Crime|Thriller</td>\n",
       "    </tr>\n",
       "    <tr>\n",
       "      <th>3</th>\n",
       "      <td>1</td>\n",
       "      <td>47</td>\n",
       "      <td>5.0</td>\n",
       "      <td>Seven (a.k.a. Se7en) (1995)</td>\n",
       "      <td>Mystery|Thriller</td>\n",
       "    </tr>\n",
       "    <tr>\n",
       "      <th>4</th>\n",
       "      <td>1</td>\n",
       "      <td>50</td>\n",
       "      <td>5.0</td>\n",
       "      <td>Usual Suspects, The (1995)</td>\n",
       "      <td>Crime|Mystery|Thriller</td>\n",
       "    </tr>\n",
       "  </tbody>\n",
       "</table>\n",
       "</div>"
      ],
      "text/plain": [
       "   userId  movieId  rating                        title  \\\n",
       "0       1        1     4.0             Toy Story (1995)   \n",
       "1       1        3     4.0      Grumpier Old Men (1995)   \n",
       "2       1        6     4.0                  Heat (1995)   \n",
       "3       1       47     5.0  Seven (a.k.a. Se7en) (1995)   \n",
       "4       1       50     5.0   Usual Suspects, The (1995)   \n",
       "\n",
       "                                        genres  \n",
       "0  Adventure|Animation|Children|Comedy|Fantasy  \n",
       "1                               Comedy|Romance  \n",
       "2                        Action|Crime|Thriller  \n",
       "3                             Mystery|Thriller  \n",
       "4                       Crime|Mystery|Thriller  "
      ]
     },
     "execution_count": 3,
     "metadata": {},
     "output_type": "execute_result"
    }
   ],
   "source": [
    "# lets further process our data set by merging our tables\n",
    "data = ratings.merge(movies, on='movieId', how='left')\n",
    "data.head()"
   ]
  },
  {
   "cell_type": "markdown",
   "metadata": {},
   "source": [
    "We can transform our data into a table where the rows reprsent the userId, and the columns represent the title. \n",
    "We can then fill in missing values with 0 to then compute the correlation matrix."
   ]
  },
  {
   "cell_type": "code",
   "execution_count": 4,
   "metadata": {},
   "outputs": [
    {
     "data": {
      "text/html": [
       "<div>\n",
       "<style scoped>\n",
       "    .dataframe tbody tr th:only-of-type {\n",
       "        vertical-align: middle;\n",
       "    }\n",
       "\n",
       "    .dataframe tbody tr th {\n",
       "        vertical-align: top;\n",
       "    }\n",
       "\n",
       "    .dataframe thead th {\n",
       "        text-align: right;\n",
       "    }\n",
       "</style>\n",
       "<table border=\"1\" class=\"dataframe\">\n",
       "  <thead>\n",
       "    <tr style=\"text-align: right;\">\n",
       "      <th>title</th>\n",
       "      <th>'71 (2014)</th>\n",
       "      <th>'Hellboy': The Seeds of Creation (2004)</th>\n",
       "      <th>'Round Midnight (1986)</th>\n",
       "      <th>'Salem's Lot (2004)</th>\n",
       "      <th>'Til There Was You (1997)</th>\n",
       "      <th>'Tis the Season for Love (2015)</th>\n",
       "      <th>'burbs, The (1989)</th>\n",
       "      <th>'night Mother (1986)</th>\n",
       "      <th>(500) Days of Summer (2009)</th>\n",
       "      <th>*batteries not included (1987)</th>\n",
       "      <th>...</th>\n",
       "      <th>Zulu (2013)</th>\n",
       "      <th>[REC] (2007)</th>\n",
       "      <th>[REC]² (2009)</th>\n",
       "      <th>[REC]³ 3 Génesis (2012)</th>\n",
       "      <th>anohana: The Flower We Saw That Day - The Movie (2013)</th>\n",
       "      <th>eXistenZ (1999)</th>\n",
       "      <th>xXx (2002)</th>\n",
       "      <th>xXx: State of the Union (2005)</th>\n",
       "      <th>¡Three Amigos! (1986)</th>\n",
       "      <th>À nous la liberté (Freedom for Us) (1931)</th>\n",
       "    </tr>\n",
       "    <tr>\n",
       "      <th>userId</th>\n",
       "      <th></th>\n",
       "      <th></th>\n",
       "      <th></th>\n",
       "      <th></th>\n",
       "      <th></th>\n",
       "      <th></th>\n",
       "      <th></th>\n",
       "      <th></th>\n",
       "      <th></th>\n",
       "      <th></th>\n",
       "      <th></th>\n",
       "      <th></th>\n",
       "      <th></th>\n",
       "      <th></th>\n",
       "      <th></th>\n",
       "      <th></th>\n",
       "      <th></th>\n",
       "      <th></th>\n",
       "      <th></th>\n",
       "      <th></th>\n",
       "      <th></th>\n",
       "    </tr>\n",
       "  </thead>\n",
       "  <tbody>\n",
       "    <tr>\n",
       "      <th>1</th>\n",
       "      <td>0.0</td>\n",
       "      <td>0.0</td>\n",
       "      <td>0.0</td>\n",
       "      <td>0.0</td>\n",
       "      <td>0.0</td>\n",
       "      <td>0.0</td>\n",
       "      <td>0.0</td>\n",
       "      <td>0.0</td>\n",
       "      <td>0.0</td>\n",
       "      <td>0.0</td>\n",
       "      <td>...</td>\n",
       "      <td>0.0</td>\n",
       "      <td>0.0</td>\n",
       "      <td>0.0</td>\n",
       "      <td>0.0</td>\n",
       "      <td>0.0</td>\n",
       "      <td>0.0</td>\n",
       "      <td>0.0</td>\n",
       "      <td>0.0</td>\n",
       "      <td>4.0</td>\n",
       "      <td>0.0</td>\n",
       "    </tr>\n",
       "    <tr>\n",
       "      <th>2</th>\n",
       "      <td>0.0</td>\n",
       "      <td>0.0</td>\n",
       "      <td>0.0</td>\n",
       "      <td>0.0</td>\n",
       "      <td>0.0</td>\n",
       "      <td>0.0</td>\n",
       "      <td>0.0</td>\n",
       "      <td>0.0</td>\n",
       "      <td>0.0</td>\n",
       "      <td>0.0</td>\n",
       "      <td>...</td>\n",
       "      <td>0.0</td>\n",
       "      <td>0.0</td>\n",
       "      <td>0.0</td>\n",
       "      <td>0.0</td>\n",
       "      <td>0.0</td>\n",
       "      <td>0.0</td>\n",
       "      <td>0.0</td>\n",
       "      <td>0.0</td>\n",
       "      <td>0.0</td>\n",
       "      <td>0.0</td>\n",
       "    </tr>\n",
       "    <tr>\n",
       "      <th>3</th>\n",
       "      <td>0.0</td>\n",
       "      <td>0.0</td>\n",
       "      <td>0.0</td>\n",
       "      <td>0.0</td>\n",
       "      <td>0.0</td>\n",
       "      <td>0.0</td>\n",
       "      <td>0.0</td>\n",
       "      <td>0.0</td>\n",
       "      <td>0.0</td>\n",
       "      <td>0.0</td>\n",
       "      <td>...</td>\n",
       "      <td>0.0</td>\n",
       "      <td>0.0</td>\n",
       "      <td>0.0</td>\n",
       "      <td>0.0</td>\n",
       "      <td>0.0</td>\n",
       "      <td>0.0</td>\n",
       "      <td>0.0</td>\n",
       "      <td>0.0</td>\n",
       "      <td>0.0</td>\n",
       "      <td>0.0</td>\n",
       "    </tr>\n",
       "    <tr>\n",
       "      <th>4</th>\n",
       "      <td>0.0</td>\n",
       "      <td>0.0</td>\n",
       "      <td>0.0</td>\n",
       "      <td>0.0</td>\n",
       "      <td>0.0</td>\n",
       "      <td>0.0</td>\n",
       "      <td>0.0</td>\n",
       "      <td>0.0</td>\n",
       "      <td>0.0</td>\n",
       "      <td>0.0</td>\n",
       "      <td>...</td>\n",
       "      <td>0.0</td>\n",
       "      <td>0.0</td>\n",
       "      <td>0.0</td>\n",
       "      <td>0.0</td>\n",
       "      <td>0.0</td>\n",
       "      <td>0.0</td>\n",
       "      <td>0.0</td>\n",
       "      <td>0.0</td>\n",
       "      <td>0.0</td>\n",
       "      <td>0.0</td>\n",
       "    </tr>\n",
       "    <tr>\n",
       "      <th>5</th>\n",
       "      <td>0.0</td>\n",
       "      <td>0.0</td>\n",
       "      <td>0.0</td>\n",
       "      <td>0.0</td>\n",
       "      <td>0.0</td>\n",
       "      <td>0.0</td>\n",
       "      <td>0.0</td>\n",
       "      <td>0.0</td>\n",
       "      <td>0.0</td>\n",
       "      <td>0.0</td>\n",
       "      <td>...</td>\n",
       "      <td>0.0</td>\n",
       "      <td>0.0</td>\n",
       "      <td>0.0</td>\n",
       "      <td>0.0</td>\n",
       "      <td>0.0</td>\n",
       "      <td>0.0</td>\n",
       "      <td>0.0</td>\n",
       "      <td>0.0</td>\n",
       "      <td>0.0</td>\n",
       "      <td>0.0</td>\n",
       "    </tr>\n",
       "  </tbody>\n",
       "</table>\n",
       "<p>5 rows × 9719 columns</p>\n",
       "</div>"
      ],
      "text/plain": [
       "title   '71 (2014)  'Hellboy': The Seeds of Creation (2004)  \\\n",
       "userId                                                        \n",
       "1              0.0                                      0.0   \n",
       "2              0.0                                      0.0   \n",
       "3              0.0                                      0.0   \n",
       "4              0.0                                      0.0   \n",
       "5              0.0                                      0.0   \n",
       "\n",
       "title   'Round Midnight (1986)  'Salem's Lot (2004)  \\\n",
       "userId                                                \n",
       "1                          0.0                  0.0   \n",
       "2                          0.0                  0.0   \n",
       "3                          0.0                  0.0   \n",
       "4                          0.0                  0.0   \n",
       "5                          0.0                  0.0   \n",
       "\n",
       "title   'Til There Was You (1997)  'Tis the Season for Love (2015)  \\\n",
       "userId                                                               \n",
       "1                             0.0                              0.0   \n",
       "2                             0.0                              0.0   \n",
       "3                             0.0                              0.0   \n",
       "4                             0.0                              0.0   \n",
       "5                             0.0                              0.0   \n",
       "\n",
       "title   'burbs, The (1989)  'night Mother (1986)  (500) Days of Summer (2009)  \\\n",
       "userId                                                                          \n",
       "1                      0.0                   0.0                          0.0   \n",
       "2                      0.0                   0.0                          0.0   \n",
       "3                      0.0                   0.0                          0.0   \n",
       "4                      0.0                   0.0                          0.0   \n",
       "5                      0.0                   0.0                          0.0   \n",
       "\n",
       "title   *batteries not included (1987)  ...  Zulu (2013)  [REC] (2007)  \\\n",
       "userId                                  ...                              \n",
       "1                                  0.0  ...          0.0           0.0   \n",
       "2                                  0.0  ...          0.0           0.0   \n",
       "3                                  0.0  ...          0.0           0.0   \n",
       "4                                  0.0  ...          0.0           0.0   \n",
       "5                                  0.0  ...          0.0           0.0   \n",
       "\n",
       "title   [REC]² (2009)  [REC]³ 3 Génesis (2012)  \\\n",
       "userId                                           \n",
       "1                 0.0                      0.0   \n",
       "2                 0.0                      0.0   \n",
       "3                 0.0                      0.0   \n",
       "4                 0.0                      0.0   \n",
       "5                 0.0                      0.0   \n",
       "\n",
       "title   anohana: The Flower We Saw That Day - The Movie (2013)  \\\n",
       "userId                                                           \n",
       "1                                                     0.0        \n",
       "2                                                     0.0        \n",
       "3                                                     0.0        \n",
       "4                                                     0.0        \n",
       "5                                                     0.0        \n",
       "\n",
       "title   eXistenZ (1999)  xXx (2002)  xXx: State of the Union (2005)  \\\n",
       "userId                                                                \n",
       "1                   0.0         0.0                             0.0   \n",
       "2                   0.0         0.0                             0.0   \n",
       "3                   0.0         0.0                             0.0   \n",
       "4                   0.0         0.0                             0.0   \n",
       "5                   0.0         0.0                             0.0   \n",
       "\n",
       "title   ¡Three Amigos! (1986)  À nous la liberté (Freedom for Us) (1931)  \n",
       "userId                                                                    \n",
       "1                         4.0                                        0.0  \n",
       "2                         0.0                                        0.0  \n",
       "3                         0.0                                        0.0  \n",
       "4                         0.0                                        0.0  \n",
       "5                         0.0                                        0.0  \n",
       "\n",
       "[5 rows x 9719 columns]"
      ]
     },
     "execution_count": 4,
     "metadata": {},
     "output_type": "execute_result"
    }
   ],
   "source": [
    "user_title = data.pivot_table(index='userId',columns='title',values='rating')\n",
    "user_title = user_title.replace(np.nan, 0, regex=True)\n",
    "user_title.head()"
   ]
  },
  {
   "cell_type": "code",
   "execution_count": 5,
   "metadata": {},
   "outputs": [],
   "source": [
    "# Let's split into training & test:\n",
    "# user_title.shape : 610, 9719 (userId, title)\n",
    "nUsers = user_title.shape[0]\n",
    "np.random.seed(0)\n",
    "msk = np.random.rand(len(user_title)) < 0.8\n",
    "\n",
    "train = user_title[msk]\n",
    "test = user_title[~msk]\n",
    "\n",
    "percent_masked = .3 # The percentage of data that is missing and needs to be estimated.\n",
    "masked_test = np.copy(test)\n",
    "masked_test[ np.random.random_sample(masked_test.shape)<=percent_masked ] = -1"
   ]
  },
  {
   "cell_type": "markdown",
   "metadata": {},
   "source": [
    "We want to standardize our data so that the mean of observed values is 0 and the standard deviation is 1. We will do this using scikit-learn object StandardScalar. "
   ]
  },
  {
   "cell_type": "code",
   "execution_count": 6,
   "metadata": {},
   "outputs": [],
   "source": [
    "# converts to a range between 0 and 1\n",
    "scaler = StandardScaler()\n",
    "scaled_train = scaler.fit_transform(train)"
   ]
  },
  {
   "cell_type": "markdown",
   "metadata": {},
   "source": [
    "With our standardized data, we can create a covariance matrix that represents the covariance between each feature in our data."
   ]
  },
  {
   "cell_type": "code",
   "execution_count": 7,
   "metadata": {},
   "outputs": [],
   "source": [
    "cov_matrix = np.cov(scaled_train)"
   ]
  },
  {
   "cell_type": "markdown",
   "metadata": {},
   "source": [
    "We can then take the eigen decomposition of the covariance matrix to get the principal components."
   ]
  },
  {
   "cell_type": "code",
   "execution_count": 8,
   "metadata": {},
   "outputs": [],
   "source": [
    "eigen_values, eigen_vectors = np.linalg.eig(cov_matrix)"
   ]
  },
  {
   "cell_type": "markdown",
   "metadata": {},
   "source": [
    "Plotting the explained variance and cumulative explained variance can help determine K."
   ]
  },
  {
   "cell_type": "code",
   "execution_count": 9,
   "metadata": {},
   "outputs": [
    {
     "data": {
      "image/png": "[encoded data removed]",
      "text/plain": [
       "<Figure size 432x288 with 1 Axes>"
      ]
     },
     "metadata": {
      "needs_background": "light"
     },
     "output_type": "display_data"
    }
   ],
   "source": [
    "var_explained = []\n",
    "\n",
    "for i in eigen_values:\n",
    "    var_explained.append((i/sum(eigen_values)))\n",
    "\n",
    "\n",
    "plt.plot(range(1,491), var_explained, lw=3)\n",
    "plt.ylabel('Proportion of Variance Explained')\n",
    "plt.xlabel('# of Principal Components')\n",
    "\n",
    "plt.show()"
   ]
  },
  {
   "cell_type": "code",
   "execution_count": 10,
   "metadata": {},
   "outputs": [
    {
     "data": {
      "image/png": "[encoded data removed]",
      "text/plain": [
       "<Figure size 432x288 with 1 Axes>"
      ]
     },
     "metadata": {
      "needs_background": "light"
     },
     "output_type": "display_data"
    }
   ],
   "source": [
    "cum_var_explained = np.cumsum(var_explained)\n",
    "\n",
    "plt.plot(range(490), cum_var_explained, 'r-', lw=2)\n",
    "plt.ylabel('Cumulative Proportion of Variance Explained')\n",
    "plt.xlabel('# of Principal Components')\n",
    "\n",
    "plt.show()"
   ]
  },
  {
   "cell_type": "markdown",
   "metadata": {},
   "source": [
    "Apply the K components to the original standardized data where K is the number of components chosen. We chose K = 200 because it explains about 90% of the variance in the data set."
   ]
  },
  {
   "cell_type": "code",
   "execution_count": 11,
   "metadata": {},
   "outputs": [],
   "source": [
    "from scipy.linalg import svd\n",
    "\n",
    "U, s, V = np.linalg.svd(scaled_train, full_matrices=False)"
   ]
  },
  {
   "cell_type": "code",
   "execution_count": 12,
   "metadata": {},
   "outputs": [],
   "source": [
    "W = U.dot(np.diag(s))"
   ]
  },
  {
   "cell_type": "code",
   "execution_count": 13,
   "metadata": {},
   "outputs": [],
   "source": [
    "X0 = W[:,:200].dot(V[:200])"
   ]
  },
  {
   "cell_type": "code",
   "execution_count": 14,
   "metadata": {},
   "outputs": [
    {
     "data": {
      "text/plain": [
       "array([[ 1.39912222e-04,  7.46244764e-04, -4.17657648e-04, ...,\n",
       "        -3.69322047e-04,  3.97667790e+00,  6.31904536e-05],\n",
       "       [-3.97055363e-03, -1.39478956e-02, -1.34089762e-02, ...,\n",
       "        -6.04741652e-04, -5.24060610e-02, -1.02790275e-04],\n",
       "       [ 1.08908155e-04,  3.29420350e-04,  2.80993384e-04, ...,\n",
       "        -5.11931623e-04,  1.04639134e-02, -7.45221570e-05],\n",
       "       ...,\n",
       "       [ 5.89896623e-05, -1.64974975e-03, -6.80425374e-04, ...,\n",
       "        -4.17598027e-04,  3.25070816e-03,  8.46480469e-05],\n",
       "       [-1.51057359e-03,  8.79620878e-03,  4.72737228e-03, ...,\n",
       "        -3.89653946e-03, -1.70138960e-01,  1.06543575e-03],\n",
       "       [ 3.99973401e+00,  3.30170747e-04,  3.43606079e-04, ...,\n",
       "         1.50001496e+00,  7.20660030e-04,  2.68145467e-06]])"
      ]
     },
     "execution_count": 14,
     "metadata": {},
     "output_type": "execute_result"
    }
   ],
   "source": [
    "X = scaler.inverse_transform(X0)\n",
    "X"
   ]
  },
  {
   "cell_type": "code",
   "execution_count": 15,
   "metadata": {},
   "outputs": [],
   "source": [
    "user_ratings = user_title.to_numpy()\n",
    "\n",
    "RBM_data = (user_ratings >= 4).astype(int)\n",
    "\n",
    "num_users,num_movies = RBM_data.shape\n",
    "\n",
    "cut = int(num_users*.7)\n",
    "Xtr = RBM_data[:cut,::]\n",
    "Xte = RBM_data[cut:,::]\n",
    "\n",
    "\n",
    "percent_masked = .3 # The percentage of data that is missing and needs to be estimated.\n",
    "Xte_mis = np.copy(Xte)\n",
    "Xte_mis[ np.random.random_sample(Xte_mis.shape)<=percent_masked ] = -1"
   ]
  },
  {
   "cell_type": "code",
   "execution_count": null,
   "metadata": {},
   "outputs": [],
   "source": [
    "RBM = BernoulliRBM(n_components=16, learning_rate=0.1, batch_size=10, n_iter=100, verbose=0, random_state=0)"
   ]
  },
  {
   "cell_type": "code",
   "execution_count": null,
   "metadata": {},
   "outputs": [],
   "source": [
    "RBM.fit(Xtr)"
   ]
  },
  {
   "cell_type": "code",
   "execution_count": null,
   "metadata": {},
   "outputs": [],
   "source": [
    "print(RBM.score_samples(Xte).mean())"
   ]
  },
  {
   "cell_type": "code",
   "execution_count": null,
   "metadata": {},
   "outputs": [],
   "source": [
    "Xte_mis_c = np.copy(Xte_mis)\n",
    "Xte_mis_c[Xte_mis_c<0] = 0.5\n",
    "for it in range(100):\n",
    "    Xte_mis_c=RBM.gibbs(Xte_mis_c)\n",
    "    Xte_mis_c[Xte_mis >= 0] = Xte_mis[Xte_mis >= 0]"
   ]
  },
  {
   "cell_type": "markdown",
   "metadata": {},
   "source": [
    "\n",
    "count = 0\n",
    "for i in range(Xte_mis_c.shape[0]):\n",
    "    for j in range(Xte_mis_c.shape[1]):\n",
    "        if Xte_mis_c[i,j] != Xte[i,j]:\n",
    "            count += 1\n",
    "print(count/(Xte_mis_c.shape[0] * Xte_mis_c.shape[1]))\n",
    "print('Error rate:', np.mean( (Xte_mis_c!=Xte)[Xte_mis<0] ) )"
   ]
  },
  {
   "cell_type": "code",
   "execution_count": 16,
   "metadata": {},
   "outputs": [],
   "source": [
    "simple_learn_rate = [.001, .01, .1]\n",
    "learnrate = [.001, .005, .01, .015, .02, .025, .03, .035, .04, .045, .05, .055, .06, .065, .07, .075, .08, .085, .09, .095, .1]\n",
    "components = [16, 32, 48, 64, 80, 96, 112, 128, 144, 160, 176, 192, 208, 224, 240, 256, 272, 288, 304, 320, 336, 352, 368, 384, 400, 416, 432, 448, 464, 480, 496, 512]"
   ]
  },
  {
   "cell_type": "code",
   "execution_count": null,
   "metadata": {},
   "outputs": [],
   "source": [
    "error_rates = []\n",
    "for c in components:\n",
    "    RBM = BernoulliRBM(n_components=c, learning_rate=0.1, batch_size=10, n_iter=100, verbose=0, random_state=0)\n",
    "    RBM.fit(Xtr)\n",
    "    Xte_mis_c = np.copy(Xte_mis)\n",
    "    Xte_mis_c[Xte_mis_c<0] = 0.5\n",
    "    for it in range(100):\n",
    "        Xte_mis_c=RBM.gibbs(Xte_mis_c)\n",
    "        Xte_mis_c[Xte_mis >= 0] = Xte_mis[Xte_mis >= 0]\n",
    "    \n",
    "    count = 0\n",
    "    for i in range(Xte_mis_c.shape[0]):\n",
    "        for j in range(Xte_mis_c.shape[1]):\n",
    "            if Xte_mis_c[i,j] != Xte[i,j]:\n",
    "                count += 1\n",
    "    print(np.mean( (Xte_mis_c!=Xte)[Xte_mis<0]), \": #Components\", c)\n",
    "    error_rates.append( np.mean( (Xte_mis_c!=Xte)[Xte_mis<0]) )"
   ]
  },
  {
   "cell_type": "code",
   "execution_count": null,
   "metadata": {},
   "outputs": [],
   "source": [
    "plt.plot(components, error_rates, 'r-', lw=2)\n",
    "plt.ylabel('Error Rate')\n",
    "plt.xlabel('# of Components in the Model')\n",
    "\n",
    "plt.show()"
   ]
  },
  {
   "cell_type": "code",
   "execution_count": 17,
   "metadata": {},
   "outputs": [
    {
     "name": "stdout",
     "output_type": "stream",
     "text": [
      "Finished:  0.001\n",
      "Finished:  0.01\n",
      "Finished:  0.1\n"
     ]
    }
   ],
   "source": [
    "# DON'T RERUN UNLESS YOU WANT TO BE HERE ALL DAY\n",
    "all_models = []\n",
    "for l in simple_learn_rate:\n",
    "    models = []\n",
    "    for c in components:\n",
    "        RBM = BernoulliRBM(n_components=c, learning_rate=l, batch_size=10, n_iter=100, verbose=0, random_state=0)\n",
    "        RBM.fit(Xtr)\n",
    "        models.append(RBM)\n",
    "    all_models.append(models)\n",
    "    print(\"Finished: \", l)"
   ]
  },
  {
   "cell_type": "code",
   "execution_count": 18,
   "metadata": {},
   "outputs": [],
   "source": [
    "cpyAll = all_models.copy()"
   ]
  },
  {
   "cell_type": "code",
   "execution_count": 20,
   "metadata": {},
   "outputs": [
    {
     "name": "stdout",
     "output_type": "stream",
     "text": [
      "0.145075479610022 : #Components 512\n",
      "0.08159360819492908 : #Components 512\n",
      "0.09697407634822458 : #Components 512\n",
      "0.08489022509097989 : #Components 512\n",
      "0.08097022748715799 : #Components 512\n",
      "0.0453233342818205 : #Components 512\n",
      "0.07377046111452233 : #Components 512\n",
      "0.07285130217303401 : #Components 512\n",
      "0.044003564314917705 : #Components 512\n",
      "0.043462552229194436 : #Components 512\n",
      "0.06520412442154763 : #Components 512\n",
      "0.05429028200020967 : #Components 512\n",
      "0.04712046785377323 : #Components 512\n",
      "0.047051203330687554 : #Components 512\n",
      "0.046691776616297004 : #Components 512\n",
      "0.03564689320533749 : #Components 512\n",
      "0.04087730070537493 : #Components 512\n",
      "0.03641254698755485 : #Components 512\n",
      "0.03716696868494751 : #Components 512\n",
      "0.027260269869558054 : #Components 512\n",
      "0.03304104952600602 : #Components 512\n",
      "0.032646054543003906 : #Components 512\n",
      "0.03292311263534662 : #Components 512\n",
      "0.03257117397750588 : #Components 512\n",
      "0.04122549533494077 : #Components 512\n",
      "0.03223233941862729 : #Components 512\n",
      "0.02639727135219325 : #Components 512\n",
      "0.031369340901262484 : #Components 512\n",
      "0.032075090231081425 : #Components 512\n",
      "0.03146481362227248 : #Components 512\n",
      "0.03177369595495185 : #Components 512\n",
      "0.04133220014077546 : #Components 512\n",
      "0.020839261378101926 : #Components 512\n",
      "0.018209081514983603 : #Components 512\n",
      "0.01525129917781139 : #Components 512\n",
      "0.015721174726311533 : #Components 512\n",
      "0.01534677189882138 : #Components 512\n",
      "0.015376724125020592 : #Components 512\n",
      "0.015138978329564345 : #Components 512\n",
      "0.015266275290910998 : #Components 512\n",
      "0.014234795501175625 : #Components 512\n",
      "0.014655998682102047 : #Components 512\n",
      "0.01468782292243871 : #Components 512\n",
      "0.014502493522831084 : #Components 512\n",
      "0.014006409776406631 : #Components 512\n",
      "0.014397660731133842 : #Components 512\n",
      "0.01475895945966184 : #Components 512\n",
      "0.014974241085468678 : #Components 512\n",
      "0.014066314228805056 : #Components 512\n",
      "0.014116858610516227 : #Components 512\n",
      "0.014717775148637922 : #Components 512\n",
      "0.013573974510655505 : #Components 512\n",
      "0.015073457834753569 : #Components 512\n",
      "0.01417301903463975 : #Components 512\n",
      "0.014474413310769324 : #Components 512\n",
      "0.014365836490797179 : #Components 512\n",
      "0.01458860617315382 : #Components 512\n",
      "0.014307804052536205 : #Components 512\n",
      "0.014519341650068142 : #Components 512\n",
      "0.014899360519970647 : #Components 512\n",
      "0.014425740943195603 : #Components 512\n",
      "0.014423868929058153 : #Components 512\n",
      "0.014071930271217408 : #Components 512\n",
      "0.014961136986506522 : #Components 512\n",
      "0.014745855360699684 : #Components 512\n",
      "0.013749943839575876 : #Components 512\n",
      "0.013641367019603732 : #Components 512\n",
      "0.01383044044748626 : #Components 512\n",
      "0.013716247585101763 : #Components 512\n",
      "0.01351219804411963 : #Components 512\n",
      "0.013150899315591632 : #Components 512\n",
      "0.014848816138259476 : #Components 512\n",
      "0.013257604121426325 : #Components 512\n",
      "0.01349160588860767 : #Components 512\n",
      "0.014972369071331227 : #Components 512\n",
      "0.014425740943195603 : #Components 512\n",
      "0.015039761580279453 : #Components 512\n",
      "0.01503227352372965 : #Components 512\n",
      "0.016022569002441107 : #Components 512\n",
      "0.014592350201428721 : #Components 512\n",
      "0.015548949425666063 : #Components 512\n",
      "0.015872807871445044 : #Components 512\n",
      "0.014729007233462627 : #Components 512\n",
      "0.01544224461983137 : #Components 512\n",
      "0.015595749779102332 : #Components 512\n",
      "0.01693236787324218 : #Components 512\n",
      "0.017900199182304226 : #Components 512\n",
      "0.02028701720755395 : #Components 512\n",
      "0.01570994264148683 : #Components 512\n",
      "0.014863792251359082 : #Components 512\n",
      "0.014182379105327004 : #Components 512\n",
      "0.015208242852650024 : #Components 512\n",
      "0.015387956209845297 : #Components 512\n",
      "0.01705592080631393 : #Components 512\n",
      "0.01886054243481647 : #Components 512\n",
      "0.01556766956704057 : #Components 512\n"
     ]
    }
   ],
   "source": [
    "all_results = []\n",
    "for i in all_models:\n",
    "    results = []\n",
    "    for j in i:\n",
    "        Xte_mis_c = np.copy(Xte_mis)\n",
    "        Xte_mis_c[Xte_mis_c<0] = 0.5\n",
    "        for it in range(100):\n",
    "            Xte_mis_c=j.gibbs(Xte_mis_c)\n",
    "            Xte_mis_c[Xte_mis >= 0] = Xte_mis[Xte_mis >= 0]\n",
    "            print()\n",
    "        print(np.mean( (Xte_mis_c!=Xte)[Xte_mis<0]), \": #Components\", c)\n",
    "        results.append( np.mean( (Xte_mis_c!=Xte)[Xte_mis<0]) )\n",
    "    all_results.append(results)"
   ]
  },
  {
   "cell_type": "code",
   "execution_count": 21,
   "metadata": {},
   "outputs": [],
   "source": [
    "colors = ['b-','g-','r-']"
   ]
  },
  {
   "cell_type": "code",
   "execution_count": 27,
   "metadata": {},
   "outputs": [
    {
     "data": {
      "image/png": "[encoded data removed]",
      "text/plain": [
       "<Figure size 432x288 with 4 Axes>"
      ]
     },
     "metadata": {
      "needs_background": "light"
     },
     "output_type": "display_data"
    }
   ],
   "source": [
    "fig, axs = plt.subplots(2, 2)\n",
    "\n",
    "for i in range(len(simple_learn_rate)):\n",
    "    axs[0,0].plot(components, all_results[i], colors[i], lw=2, label =(\"Learn Rate:\" + str(simple_learn_rate[i])))\n",
    "axs[0, 0].set_title('All Learn Rates')\n",
    "\n",
    "axs[0,1].plot(components, all_results[0], colors[0], lw=2, label =(\"Learn Rate:\" + str(simple_learn_rate[0])))\n",
    "axs[0, 1].set_title(\"Learn Rate:\" + str(simple_learn_rate[0]))\n",
    "\n",
    "axs[1,0].plot(components, all_results[1], colors[1], lw=2, label =(\"Learn Rate:\" + str(simple_learn_rate[1])))\n",
    "axs[1, 0].set_title(\"Learn Rate:\" + str(simple_learn_rate[1]))\n",
    "\n",
    "axs[1,1].plot(components, all_results[2], colors[2], lw=2, label =(\"Learn Rate:\" + str(simple_learn_rate[2])))\n",
    "axs[1, 1].set_title(\"Learn Rate:\" + str(simple_learn_rate[2]))\n",
    "\n",
    "for ax in axs.flat:\n",
    "    ax.set(xlabel='# of Components in the Model', ylabel='Error Rate')\n",
    "\n",
    "for ax in axs.flat:\n",
    "    ax.label_outer()"
   ]
  },
  {
   "cell_type": "code",
   "execution_count": 28,
   "metadata": {},
   "outputs": [],
   "source": [
    "all_scores = []\n",
    "for i in all_models:\n",
    "    scores = []\n",
    "    for j in i:\n",
    "        scores.append(j.score_samples(Xte).mean())\n",
    "    all_scores.append(scores)"
   ]
  },
  {
   "cell_type": "code",
   "execution_count": 32,
   "metadata": {},
   "outputs": [
    {
     "data": {
      "image/png": "[encoded data removed]",
      "text/plain": [
       "<Figure size 432x288 with 4 Axes>"
      ]
     },
     "metadata": {
      "needs_background": "light"
     },
     "output_type": "display_data"
    }
   ],
   "source": [
    "fig, axs = plt.subplots(2, 2)\n",
    "\n",
    "for i in range(len(simple_learn_rate)):\n",
    "    axs[0,0].plot(components, all_scores[i], colors[i], lw=2, label =(\"Learn Rate:\" + str(simple_learn_rate[i])))\n",
    "axs[0, 0].set_title('All Learn Rates')\n",
    "\n",
    "axs[0,1].plot(components, all_scores[0], colors[0], lw=2, label =(\"Learn Rate:\" + str(simple_learn_rate[0])))\n",
    "axs[0, 1].set_title(\"Learn Rate:\" + str(simple_learn_rate[0]))\n",
    "\n",
    "axs[1,0].plot(components, all_scores[1], colors[1], lw=2, label =(\"Learn Rate:\" + str(simple_learn_rate[1])))\n",
    "axs[1, 0].set_title(\"Learn Rate:\" + str(simple_learn_rate[1]))\n",
    "\n",
    "axs[1,1].plot(components, all_scores[2], colors[2], lw=2, label =(\"Learn Rate:\" + str(simple_learn_rate[2])))\n",
    "axs[1, 1].set_title(\"Learn Rate:\" + str(simple_learn_rate[2]))\n",
    "\n",
    "for ax in axs.flat:\n",
    "    ax.set(xlabel='# of Components in the Model', ylabel='Pseudo-Likelihood')\n",
    "\n",
    "for ax in axs.flat:\n",
    "    ax.label_outer()"
   ]
  },
  {
   "cell_type": "code",
   "execution_count": 38,
   "metadata": {},
   "outputs": [],
   "source": [
    "from sklearn.metrics import mean_squared_error\n",
    "all_mse = []\n",
    "for i in all_models:\n",
    "    mse = []\n",
    "    for j in i:\n",
    "        Xte_mis_c = np.copy(Xte_mis)\n",
    "        Xte_mis_c[Xte_mis_c<0] = 0.5\n",
    "        for it in range(100):\n",
    "            Xte_mis_c=j.gibbs(Xte_mis_c)\n",
    "            Xte_mis_c[Xte_mis >= 0] = Xte_mis[Xte_mis >= 0]\n",
    "        mse.append(mean_squared_error(Xte_mis_c, Xte))\n",
    "    all_mse.append(mse)"
   ]
  },
  {
   "cell_type": "code",
   "execution_count": 39,
   "metadata": {},
   "outputs": [
    {
     "data": {
      "image/png": "[encoded data removed]",
      "text/plain": [
       "<Figure size 432x288 with 4 Axes>"
      ]
     },
     "metadata": {
      "needs_background": "light"
     },
     "output_type": "display_data"
    }
   ],
   "source": [
    "fig, axs = plt.subplots(2, 2)\n",
    "\n",
    "for i in range(len(simple_learn_rate)):\n",
    "    axs[0,0].plot(components, all_mse[i], colors[i], lw=2, label =(\"Learn Rate:\" + str(simple_learn_rate[i])))\n",
    "axs[0, 0].set_title('All Learn Rates')\n",
    "\n",
    "axs[0,1].plot(components, all_mse[0], colors[0], lw=2, label =(\"Learn Rate:\" + str(simple_learn_rate[0])))\n",
    "axs[0, 1].set_title(\"Learn Rate:\" + str(simple_learn_rate[0]))\n",
    "\n",
    "axs[1,0].plot(components, all_mse[1], colors[1], lw=2, label =(\"Learn Rate:\" + str(simple_learn_rate[1])))\n",
    "axs[1, 0].set_title(\"Learn Rate:\" + str(simple_learn_rate[1]))\n",
    "\n",
    "axs[1,1].plot(components, all_mse[2], colors[2], lw=2, label =(\"Learn Rate:\" + str(simple_learn_rate[2])))\n",
    "axs[1, 1].set_title(\"Learn Rate:\" + str(simple_learn_rate[2]))\n",
    "\n",
    "for ax in axs.flat:\n",
    "    ax.set(xlabel='# of Components in the Model', ylabel='MSE')\n",
    "\n",
    "for ax in axs.flat:\n",
    "    ax.label_outer()"
   ]
  }
 ],
 "metadata": {
  "kernelspec": {
   "display_name": "Python 3",
   "language": "python",
   "name": "python3"
  },
  "language_info": {
   "codemirror_mode": {
    "name": "ipython",
    "version": 3
   },
   "file_extension": ".py",
   "mimetype": "text/x-python",
   "name": "python",
   "nbconvert_exporter": "python",
   "pygments_lexer": "ipython3",
   "version": "3.9.1"
  }
 },
 "nbformat": 4,
 "nbformat_minor": 4
}
